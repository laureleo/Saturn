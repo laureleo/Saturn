{
 "cells": [
  {
   "cell_type": "code",
   "execution_count": 1,
   "metadata": {},
   "outputs": [
    {
     "name": "stdout",
     "output_type": "stream",
     "text": [
      "UTF-8\n"
     ]
    }
   ],
   "source": [
    "import requests as re\n",
    "\n",
    "url =\"https://en.wikipedia.org/wiki/List_of_IP_protocol_numbers\"\n",
    "\n",
    "# Get the response from a site\n",
    "\n",
    "response = re.get(url)\n",
    "print(response.encoding)\n",
    "text = response.text"
   ]
  },
  {
   "cell_type": "code",
   "execution_count": 2,
   "metadata": {},
   "outputs": [],
   "source": [
    "from bs4 import BeautifulSoup\n",
    "\n",
    "# Print it\n",
    "soup = BeautifulSoup(text, 'html.parser')\n",
    "#print(soup.prettify())"
   ]
  },
  {
   "cell_type": "code",
   "execution_count": 3,
   "metadata": {},
   "outputs": [
    {
     "name": "stdout",
     "output_type": "stream",
     "text": [
      "<title>List of IP protocol numbers - Wikipedia</title>\n",
      "title\n",
      "List of IP protocol numbers - Wikipedia\n"
     ]
    }
   ],
   "source": [
    "# Extracting data\n",
    "title = soup.title\n",
    "titletag = soup.title.name\n",
    "titletext = soup.title.string\n",
    "paragraph = soup.p\n",
    "\n",
    "print(title)\n",
    "print(titletag)\n",
    "print(titletext)\n",
    "#print(paragraph)"
   ]
  },
  {
   "cell_type": "code",
   "execution_count": 4,
   "metadata": {},
   "outputs": [
    {
     "data": {
      "text/plain": [
       "[<a class=\"mw-jump-link\" href=\"#mw-head\">Jump to navigation</a>,\n",
       " <a class=\"mw-jump-link\" href=\"#searchInput\">Jump to search</a>]"
      ]
     },
     "execution_count": 4,
     "metadata": {},
     "output_type": "execute_result"
    }
   ],
   "source": [
    "soup.find_all(name = 'a', attrs={\"mw-jump-link\"})"
   ]
  },
  {
   "cell_type": "code",
   "execution_count": 5,
   "metadata": {},
   "outputs": [],
   "source": [
    "wikitable = soup.find(name = 'table', attrs={\"wikitable\"})"
   ]
  },
  {
   "cell_type": "code",
   "execution_count": 6,
   "metadata": {},
   "outputs": [
    {
     "data": {
      "text/plain": [
       "<tr>\n",
       "<th>Hex\n",
       "</th>\n",
       "<th>Protocol Number</th>\n",
       "<th>Keyword</th>\n",
       "<th>Protocol</th>\n",
       "<th>References/RFC\n",
       "</th></tr>"
      ]
     },
     "execution_count": 6,
     "metadata": {},
     "output_type": "execute_result"
    }
   ],
   "source": [
    "wikitable.find_all(name= 'tr')[0]"
   ]
  },
  {
   "cell_type": "code",
   "execution_count": 7,
   "metadata": {},
   "outputs": [
    {
     "data": {
      "text/plain": [
       "<tr>\n",
       "<td>0x00\n",
       "</td>\n",
       "<td>0\n",
       "</td>\n",
       "<td>HOPOPT\n",
       "</td>\n",
       "<td><a class=\"mw-redirect\" href=\"/wiki/IPv6_Hop-by-Hop_Option\" title=\"IPv6 Hop-by-Hop Option\">IPv6 Hop-by-Hop Option</a>\n",
       "</td>\n",
       "<td><a class=\"external mw-magiclink-rfc\" href=\"https://tools.ietf.org/html/rfc8200\" rel=\"nofollow\">RFC 8200</a>\n",
       "</td></tr>"
      ]
     },
     "execution_count": 7,
     "metadata": {},
     "output_type": "execute_result"
    }
   ],
   "source": [
    "wikitable.find_all(name= 'tr')[1]"
   ]
  },
  {
   "cell_type": "code",
   "execution_count": 8,
   "metadata": {},
   "outputs": [
    {
     "data": {
      "text/plain": [
       "'1\\n'"
      ]
     },
     "execution_count": 8,
     "metadata": {},
     "output_type": "execute_result"
    }
   ],
   "source": [
    "wikitable.find_all(name= 'tr')[2].find_all(name='td')[1].string"
   ]
  },
  {
   "cell_type": "code",
   "execution_count": 9,
   "metadata": {},
   "outputs": [
    {
     "name": "stdout",
     "output_type": "stream",
     "text": [
      "naw\n",
      "naw\n"
     ]
    }
   ],
   "source": [
    "# So for each <tr> tag in wikielements (except for the first one), the second th tag is the protocol number, the third is the name \n",
    "mapping = {}\n",
    "for entry in wikitable.find_all(name= 'tr'):\n",
    "    try:\n",
    "        info = entry.find_all(name='td')\n",
    "        nr = info[1].string[:-1]\n",
    "        name = info[2].string[:-1]\n",
    "        mapping.update({nr:name})\n",
    "    except:\n",
    "        print(\"naw\")"
   ]
  },
  {
   "cell_type": "code",
   "execution_count": 10,
   "metadata": {},
   "outputs": [],
   "source": [
    "import pickle\n",
    "with open(\"protocol.pkl\", \"wb\") as f:\n",
    "    pickle.dump(mapping, f)\n"
   ]
  },
  {
   "cell_type": "code",
   "execution_count": null,
   "metadata": {},
   "outputs": [],
   "source": []
  }
 ],
 "metadata": {
  "kernelspec": {
   "display_name": "Python 3",
   "language": "python",
   "name": "python3"
  },
  "language_info": {
   "codemirror_mode": {
    "name": "ipython",
    "version": 3
   },
   "file_extension": ".py",
   "mimetype": "text/x-python",
   "name": "python",
   "nbconvert_exporter": "python",
   "pygments_lexer": "ipython3",
   "version": "3.7.5"
  }
 },
 "nbformat": 4,
 "nbformat_minor": 4
}
