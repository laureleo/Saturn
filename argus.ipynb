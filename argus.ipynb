{
 "cells": [
  {
   "cell_type": "markdown",
   "metadata": {},
   "source": [
    "# Argus\n",
    "\n",
    "Scope:\n",
    "* Sweden:\n",
    "* Scandinavia:\n",
    "* Europe:\n",
    "* World\n",
    "\n",
    "Scrape the main news for each country.\n",
    "\n",
    "Do I need a manual approach for each newspaper? Tiresome. Let's try to automate things.\n",
    "Grab the text element with the largest font on the main page?\n",
    "\n",
    "Grab the elements, search for h1...h6, pick the first largest one (and the subtext?)?\n",
    "\n",
    "No, font size is better.\n",
    "\n",
    "## Links\n",
    "https://en.wikipedia.org/wiki/List_of_newspapers_in_Sweden"
   ]
  },
  {
   "cell_type": "code",
   "execution_count": 236,
   "metadata": {},
   "outputs": [
    {
     "output_type": "execute_result",
     "data": {
      "text/plain": [
       "                                     MONSTER  ...                         SKÄRGÅRD\n",
       "1400-1420    Maria/Robert vs Alexander/Jenny  ...   Anders/Therese vs Maria/Niclas\n",
       "1425-1445       Maria/Robert vs Filip/Victor  ...  Maria/Niclas vs Alexander/Jenny\n",
       "1450-1510  Anders/Therese vs Alexander/Jenny  ...    Linnea/Tobias vs Maria/Robert\n",
       "1515-1535       Maria/Niclas vs Maria/Robert  ...   Filip/Victor vs Anders/Therese\n",
       "1540-1600     Anders/Therese vs Maria/Robert  ...  Alexander/Jenny vs Filip/Victor\n",
       "\n",
       "[5 rows x 3 columns]"
      ],
      "text/html": "<div>\n<style scoped>\n    .dataframe tbody tr th:only-of-type {\n        vertical-align: middle;\n    }\n\n    .dataframe tbody tr th {\n        vertical-align: top;\n    }\n\n    .dataframe thead th {\n        text-align: right;\n    }\n</style>\n<table border=\"1\" class=\"dataframe\">\n  <thead>\n    <tr style=\"text-align: right;\">\n      <th></th>\n      <th>MONSTER</th>\n      <th>LANTCHIPS</th>\n      <th>SKÄRGÅRD</th>\n    </tr>\n  </thead>\n  <tbody>\n    <tr>\n      <th>1400-1420</th>\n      <td>Maria/Robert vs Alexander/Jenny</td>\n      <td>Linnea/Tobias vs Filip/Victor</td>\n      <td>Anders/Therese vs Maria/Niclas</td>\n    </tr>\n    <tr>\n      <th>1425-1445</th>\n      <td>Maria/Robert vs Filip/Victor</td>\n      <td>Anders/Therese vs Linnea/Tobias</td>\n      <td>Maria/Niclas vs Alexander/Jenny</td>\n    </tr>\n    <tr>\n      <th>1450-1510</th>\n      <td>Anders/Therese vs Alexander/Jenny</td>\n      <td>Filip/Victor vs Maria/Niclas</td>\n      <td>Linnea/Tobias vs Maria/Robert</td>\n    </tr>\n    <tr>\n      <th>1515-1535</th>\n      <td>Maria/Niclas vs Maria/Robert</td>\n      <td>Alexander/Jenny vs Linnea/Tobias</td>\n      <td>Filip/Victor vs Anders/Therese</td>\n    </tr>\n    <tr>\n      <th>1540-1600</th>\n      <td>Anders/Therese vs Maria/Robert</td>\n      <td>Linnea/Tobias vs Maria/Niclas</td>\n      <td>Alexander/Jenny vs Filip/Victor</td>\n    </tr>\n  </tbody>\n</table>\n</div>"
     },
     "metadata": {},
     "execution_count": 236
    }
   ],
   "source": [
    "import pandas as pd\n",
    "import random\n",
    "import numpy as np\n",
    "\n",
    "def create_schedule(seed = 0):\n",
    "    \"\"\"This function uses a horrible why-loop with a try clause, instead of intelligence. Beware\"\"\"\n",
    "    np.random.seed(seed)\n",
    "    schedule = pd.DataFrame()\n",
    "    times = [\n",
    "    \"1400-1420\",\n",
    "    \"1425-1445\",\n",
    "    \"1450-1510\",\n",
    "    \"1515-1535\",\n",
    "    \"1540-1600\"\n",
    "    ]\n",
    "\n",
    "    arenas = [\"MONSTER\", \"LANTCHIPS\", \"SKÄRGÅRD\"]\n",
    "\n",
    "    A = \"Maria/Robert\"\n",
    "    B = \"Alexander/Jenny\"\n",
    "    C = \"Maria/Niclas\"\n",
    "    D = \"Anders/Therese\"\n",
    "    E = \"Linnea/Tobias\"\n",
    "    F = \"Filip/Victor\"\n",
    "\n",
    "    teams = [A, B, C, D, E, F]\n",
    "\n",
    "    done = False\n",
    "    while done is not True:\n",
    "        try:\n",
    "            vs_table = pd.DataFrame(columns=['Team_1', 'Team_2'])\n",
    "\n",
    "            for timeslot in times:\n",
    "                players = teams.copy()\n",
    "                for arena in arenas:\n",
    "                    team1 = np.random.choice(players)\n",
    "                    players.remove(team1)\n",
    "\n",
    "                    already_played_against = list(vs_table[vs_table['Team_1'] == team1]['Team_2'].unique())\n",
    "\n",
    "                    if len(already_played_against) == len(teams) -1:\n",
    "                        print(f\"{team1}  is done!\")\n",
    "                    else:\n",
    "                        not_played_against = [p for p in players if p not in already_played_against]\n",
    "            \n",
    "\n",
    "                        team2 = np.random.choice(not_played_against)\n",
    "                        players.remove(team2)\n",
    "\n",
    "                        vs_entry = pd.DataFrame([[team1, team2], [team2, team1]], columns=['Team_1', 'Team_2'])\n",
    "                        vs_table = vs_table.append(vs_entry)\n",
    "\n",
    "                        #print(f\"{team1} vs {team2} in {arena} at {timeslot}\")\n",
    "                        schedule.at[timeslot, arena] = team1 + ' vs ' + team2\n",
    "            done = True\n",
    "        except Exception as e:\n",
    "            done = False\n",
    "    return schedule\n",
    "\n",
    "\n",
    "\n",
    "\n",
    "schedule  = create_schedule(2)\n",
    "\n",
    "schedule"
   ]
  },
  {
   "cell_type": "code",
   "execution_count": 2,
   "metadata": {},
   "outputs": [
    {
     "output_type": "execute_result",
     "data": {
      "text/plain": [
       "'Der Himmel ist blau und ich mag Bananen'"
      ]
     },
     "metadata": {},
     "execution_count": 2
    }
   ],
   "source": [
    "import logging\n",
    "logging.basicConfig(level = logging.INFO)\n",
    "\n",
    "import psycopg2\n",
    "import requests\n",
    "from bs4 import BeautifulSoup\n",
    "from datetime import datetime\n",
    "\n",
    "\n",
    "\n",
    "from eyes_of_argus import *\n",
    "\n",
    "ARGUS_EYES = [\n",
    "    eye_swe_1(),\n",
    "    eye_swe_2(),\n",
    "    eye_swe_3(),\n",
    "    eye_swe_4(),\n",
    "    eye_swe_5(),\n",
    "    eye_den_1()\n",
    "]\n",
    "from googletrans import Translator\n",
    "translator = Translator(service_urls=['translate.googleapis.com'])\n",
    "translator.translate(\"Der Himmel ist blau und ich mag Bananen\", dest='en').text"
   ]
  },
  {
   "cell_type": "code",
   "execution_count": 12,
   "metadata": {},
   "outputs": [],
   "source": []
  },
  {
   "cell_type": "code",
   "execution_count": 3,
   "metadata": {},
   "outputs": [],
   "source": [
    "class mind_of_argus():\n",
    "    \"\"\"\n",
    "    The Mind of Argus processes what all eyes see...\n",
    "    This class takes in a destination language and a list of eyes.\n",
    "    \n",
    "    \"\"\"\n",
    "    def __init__(self, target_lang = 'en'):\n",
    "        self.target_lang = target_lang\n",
    "        self.translator = Translator()\n",
    "        self.eyes = ARGUS_EYES\n",
    "\n",
    "    def understand(self, eye):\n",
    "        \"\"\"\n",
    "        Gets the header and extract from the eye and tries to translate it\n",
    "        \"\"\"\n",
    "        response = eye.watch()\n",
    "        for key in response:\n",
    "            try:\n",
    "                text = response[key]\n",
    "                translation = self.translator.translate(text, dest = self.target_lang).text\n",
    "                if text == translation:\n",
    "                    response[key] = \"(Translation failed) \" + translation\n",
    "                else:\n",
    "                    response[key] = cb[4] + translation\n",
    "            except Exception as e:\n",
    "                print(\"e\")\n",
    "                logging.warning(f\"Translation failed {e}\")\n",
    "       \n",
    "        return response\n",
    "\n",
    "    def convey(self, eye):\n",
    "        eye.infer_data()\n",
    "        description = eye.describe()\n",
    "        print(description['newspaper'])\n",
    "        response = self.understand(eye)\n",
    "        for key in response:\n",
    "            text = response[key]\n",
    "            print(f\"{key}: {text}\")\n",
    "\n",
    "    def overwatch(self):\n",
    "        for eye in self.eyes:\n",
    "            print()\n",
    "            self.convey(eye)\n",
    "\n"
   ]
  },
  {
   "cell_type": "code",
   "execution_count": 5,
   "metadata": {},
   "outputs": [
    {
     "output_type": "stream",
     "name": "stdout",
     "text": [
      "(Guess) bild\n",
      "header: (Translation failed) (Guess) Aktuelle Nachrichten\n",
      "excerpt: (Translation failed) (Guess) Alle Nachrichten zu Covid-19\n"
     ]
    }
   ],
   "source": [
    "\n",
    "class eye_tha_1(Proto_eye):\n",
    "    def __init__(self):\n",
    "        super().__init__(self)\n",
    "        self.url ='https://www.dailynews.co.th/'\n",
    "ARGUS_EYES.append(eye_tha_1())\n",
    "\n",
    "\n",
    "\n",
    "class eye_fra_1(Proto_eye):\n",
    "    def __init__(self):\n",
    "        super().__init__(self)\n",
    "        self.url = 'https://www.lemonde.fr/'\n",
    "ARGUS_EYES.append(eye_fra_1())\n",
    "\n",
    "class eye_ger_1(Proto_eye):\n",
    "    def __init__(self):\n",
    "        super().__init__(self)\n",
    "        self.url = 'https://www.bild.de/'\n",
    "ARGUS_EYES.append(eye_ger_1())\n",
    "\n",
    "\n",
    "a = mind_of_argus()\n",
    "a.convey(a.eyes[-1])\n"
   ]
  },
  {
   "cell_type": "code",
   "execution_count": 23,
   "metadata": {},
   "outputs": [
    {
     "output_type": "execute_result",
     "data": {
      "text/plain": [
       "'JUST NU: 174 nya dödsfall i Sverige'"
      ]
     },
     "metadata": {},
     "execution_count": 23
    }
   ],
   "source": []
  },
  {
   "cell_type": "code",
   "execution_count": 10,
   "metadata": {},
   "outputs": [
    {
     "output_type": "execute_result",
     "data": {
      "text/plain": [
       "{'url': 'https://www.gp.se/',\n",
       " 'newspaper': '(Guess) gp',\n",
       " 'country': '(Guess) Sweden',\n",
       " 'language': '(Not set)',\n",
       " 'notes': '(Not set)'}"
      ]
     },
     "metadata": {},
     "execution_count": 10
    }
   ],
   "source": []
  },
  {
   "cell_type": "code",
   "execution_count": 25,
   "metadata": {},
   "outputs": [
    {
     "output_type": "execute_result",
     "data": {
      "text/plain": [
       "'Der Himmel ist blau und ich mag Bananen'"
      ]
     },
     "metadata": {},
     "execution_count": 25
    }
   ],
   "source": []
  },
  {
   "cell_type": "code",
   "execution_count": null,
   "metadata": {},
   "outputs": [],
   "source": []
  },
  {
   "cell_type": "code",
   "execution_count": null,
   "metadata": {},
   "outputs": [],
   "source": []
  },
  {
   "cell_type": "code",
   "execution_count": 7,
   "metadata": {},
   "outputs": [
    {
     "output_type": "execute_result",
     "data": {
      "text/plain": [
       "'(Not set)'"
      ]
     },
     "metadata": {},
     "execution_count": 7
    }
   ],
   "source": [
    "cb[1]"
   ]
  },
  {
   "cell_type": "code",
   "execution_count": 7,
   "metadata": {},
   "outputs": [],
   "source": [
    "\n"
   ]
  },
  {
   "cell_type": "code",
   "execution_count": 47,
   "metadata": {},
   "outputs": [],
   "source": []
  },
  {
   "cell_type": "code",
   "execution_count": 48,
   "metadata": {},
   "outputs": [
    {
     "output_type": "stream",
     "name": "stderr",
     "text": [
      "WARNING:root:FAIL: 'str' object is not callable\n",
      "WARNING:root:FAIL: getting header find() takes no keyword arguments\n",
      "WARNING:root:FAIL: getting excerpt find() takes no keyword arguments\n",
      "https://politiken.dk/\n",
      "Not_set\n",
      "prototype\n",
      "header:   Not Found\n",
      "excerpt:   Not Found\n"
     ]
    }
   ],
   "source": [
    "\n",
    "\n",
    "# Add other eyes\n",
    "\n",
    "# Setup website\n",
    "\n",
    "# Save daily state in database\n",
    "# Make it pretty\n",
    "# Add history\n",
    "# Search for country mentions\n",
    "# Add all countries"
   ]
  },
  {
   "cell_type": "code",
   "execution_count": 19,
   "metadata": {},
   "outputs": [],
   "source": []
  }
 ],
 "metadata": {
  "kernelspec": {
   "display_name": "Python 3",
   "language": "python",
   "name": "python3"
  },
  "language_info": {
   "codemirror_mode": {
    "name": "ipython",
    "version": 3
   },
   "file_extension": ".py",
   "mimetype": "text/x-python",
   "name": "python",
   "nbconvert_exporter": "python",
   "pygments_lexer": "ipython3",
   "version": "3.7.3-final"
  }
 },
 "nbformat": 4,
 "nbformat_minor": 4
}