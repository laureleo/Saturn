{
 "cells": [
  {
   "cell_type": "markdown",
   "metadata": {},
   "source": [
    "# Argus\n",
    "\n",
    "Scope:\n",
    "* Sweden:\n",
    "* Scandinavia:\n",
    "* Europe:\n",
    "* World\n",
    "\n",
    "Scrape the main news for each country.\n",
    "\n",
    "Do I need a manual approach for each newspaper? Tiresome. Let's try to automate things.\n",
    "Grab the text element with the largest font on the main page?\n",
    "\n",
    "Grab the elements, search for h1...h6, pick the first largest one (and the subtext?)?\n",
    "\n",
    "No, font size is better.\n",
    "\n",
    "## Links\n",
    "https://en.wikipedia.org/wiki/List_of_newspapers_in_Sweden"
   ]
  },
  {
   "cell_type": "code",
   "execution_count": 9,
   "metadata": {},
   "outputs": [
    {
     "output_type": "execute_result",
     "data": {
      "text/plain": [
       "'Sweden'"
      ]
     },
     "metadata": {},
     "execution_count": 9
    }
   ],
   "source": []
  },
  {
   "cell_type": "code",
   "execution_count": 2,
   "metadata": {},
   "outputs": [
    {
     "output_type": "execute_result",
     "data": {
      "text/plain": [
       "'Der Himmel ist blau und ich mag Bananen'"
      ]
     },
     "metadata": {},
     "execution_count": 2
    }
   ],
   "source": [
    "import logging\n",
    "logging.basicConfig(level = logging.INFO)\n",
    "\n",
    "import psycopg2\n",
    "import requests\n",
    "from bs4 import BeautifulSoup\n",
    "from datetime import datetime\n",
    "\n",
    "\n",
    "\n",
    "from eyes_of_argus import *\n",
    "\n",
    "ARGUS_EYES = [\n",
    "    eye_swe_1(),\n",
    "    eye_swe_2(),\n",
    "    eye_swe_3(),\n",
    "    eye_swe_4(),\n",
    "    eye_swe_5(),\n",
    "    eye_den_1()\n",
    "]\n",
    "from googletrans import Translator\n",
    "translator = Translator(service_urls=['translate.googleapis.com'])\n",
    "translator.translate(\"Der Himmel ist blau und ich mag Bananen\", dest='en').text"
   ]
  },
  {
   "cell_type": "code",
   "execution_count": 9,
   "metadata": {},
   "outputs": [],
   "source": [
    "class mind_of_argus():\n",
    "    \"\"\"\n",
    "    The Mind of Argus processes what all eyes see...\n",
    "    This class takes in a destination language and a list of eyes.\n",
    "    \n",
    "    \"\"\"\n",
    "    def __init__(self, target_lang = 'en'):\n",
    "        self.target_lang = target_lang\n",
    "        self.translator = Translator()\n",
    "        self.eyes = ARGUS_EYES\n",
    "\n",
    "    def understand(self, eye):\n",
    "        \"\"\"\n",
    "        Gets the header and extract from the eye and tries to translate it\n",
    "        \"\"\"\n",
    "        response = eye.watch()\n",
    "        for key in response:\n",
    "            try:\n",
    "                text = response[key]\n",
    "                translation = self.translator.translate(text, dest = self.target_lang).text\n",
    "                if text == translation:\n",
    "                    response[key] = \"(Translation failed) \" + translation\n",
    "                else:\n",
    "                    response[key] = cb[4] + translation\n",
    "            except Exception as e:\n",
    "                print(\"e\")\n",
    "                logging.warning(f\"Translation failed {e}\")\n",
    "       \n",
    "        return response\n",
    "\n",
    "    def convey(self, eye):\n",
    "        eye.infer_data()\n",
    "        description = eye.describe()\n",
    "        print(description['newspaper'])\n",
    "        response = self.understand(eye)\n",
    "        for key in response:\n",
    "            text = response[key]\n",
    "            print(f\"{key}: {text}\")\n",
    "\n",
    "    def overwatch(self):\n",
    "        for eye in self.eyes:\n",
    "            print()\n",
    "            self.convey(eye)\n",
    "\n",
    "a = mind_of_argus()\n"
   ]
  },
  {
   "cell_type": "code",
   "execution_count": 11,
   "metadata": {},
   "outputs": [
    {
     "output_type": "stream",
     "name": "stdout",
     "text": [
      "(Guess) aftonbladet\n",
      "header: (Translation failed) JUST NU: 174 nya dödsfall i Sverige\n",
      "excerpt: (Translation failed) ▸ Liverapportering om coronapandemin\n"
     ]
    }
   ],
   "source": [
    "a.convey(ARGUS_EYES[1])"
   ]
  },
  {
   "cell_type": "code",
   "execution_count": 23,
   "metadata": {},
   "outputs": [
    {
     "output_type": "execute_result",
     "data": {
      "text/plain": [
       "'JUST NU: 174 nya dödsfall i Sverige'"
      ]
     },
     "metadata": {},
     "execution_count": 23
    }
   ],
   "source": []
  },
  {
   "cell_type": "code",
   "execution_count": 10,
   "metadata": {},
   "outputs": [
    {
     "output_type": "execute_result",
     "data": {
      "text/plain": [
       "{'url': 'https://www.gp.se/',\n",
       " 'newspaper': '(Guess) gp',\n",
       " 'country': '(Guess) Sweden',\n",
       " 'language': '(Not set)',\n",
       " 'notes': '(Not set)'}"
      ]
     },
     "metadata": {},
     "execution_count": 10
    }
   ],
   "source": []
  },
  {
   "cell_type": "code",
   "execution_count": 25,
   "metadata": {},
   "outputs": [
    {
     "output_type": "execute_result",
     "data": {
      "text/plain": [
       "'Der Himmel ist blau und ich mag Bananen'"
      ]
     },
     "metadata": {},
     "execution_count": 25
    }
   ],
   "source": []
  },
  {
   "cell_type": "code",
   "execution_count": null,
   "metadata": {},
   "outputs": [],
   "source": []
  },
  {
   "cell_type": "code",
   "execution_count": null,
   "metadata": {},
   "outputs": [],
   "source": []
  },
  {
   "cell_type": "code",
   "execution_count": 7,
   "metadata": {},
   "outputs": [
    {
     "output_type": "execute_result",
     "data": {
      "text/plain": [
       "'(Not set)'"
      ]
     },
     "metadata": {},
     "execution_count": 7
    }
   ],
   "source": [
    "cb[1]"
   ]
  },
  {
   "cell_type": "code",
   "execution_count": 7,
   "metadata": {},
   "outputs": [],
   "source": [
    "\n"
   ]
  },
  {
   "cell_type": "code",
   "execution_count": 47,
   "metadata": {},
   "outputs": [],
   "source": []
  },
  {
   "cell_type": "code",
   "execution_count": 48,
   "metadata": {},
   "outputs": [
    {
     "output_type": "stream",
     "name": "stderr",
     "text": [
      "WARNING:root:FAIL: 'str' object is not callable\n",
      "WARNING:root:FAIL: getting header find() takes no keyword arguments\n",
      "WARNING:root:FAIL: getting excerpt find() takes no keyword arguments\n",
      "https://politiken.dk/\n",
      "Not_set\n",
      "prototype\n",
      "header:   Not Found\n",
      "excerpt:   Not Found\n"
     ]
    }
   ],
   "source": [
    "\n",
    "\n",
    "# Add other eyes\n",
    "\n",
    "# Setup website\n",
    "\n",
    "# Save daily state in database\n",
    "# Make it pretty\n",
    "# Add history\n",
    "# Search for country mentions\n",
    "# Add all countries"
   ]
  },
  {
   "cell_type": "code",
   "execution_count": 19,
   "metadata": {},
   "outputs": [],
   "source": []
  }
 ],
 "metadata": {
  "kernelspec": {
   "display_name": "Python 3",
   "language": "python",
   "name": "python3"
  },
  "language_info": {
   "codemirror_mode": {
    "name": "ipython",
    "version": 3
   },
   "file_extension": ".py",
   "mimetype": "text/x-python",
   "name": "python",
   "nbconvert_exporter": "python",
   "pygments_lexer": "ipython3",
   "version": "3.7.3-final"
  }
 },
 "nbformat": 4,
 "nbformat_minor": 4
}