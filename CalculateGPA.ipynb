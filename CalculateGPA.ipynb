{
 "cells": [
  {
   "cell_type": "markdown",
   "metadata": {},
   "source": [
    "GPA CALCULATOR\n"
   ]
  },
  {
   "cell_type": "code",
   "execution_count": 1,
   "metadata": {},
   "outputs": [],
   "source": [
    "from bs4 import BeautifulSoup\n",
    "import codecs\n",
    "import pandas as pd\n",
    "import numpy as np\n",
    "import regex as re\n",
    "html_text = codecs.open(\"Completed education - Ladok.html\", 'r')\n",
    "\n",
    "\n",
    "soup = BeautifulSoup(html_text, 'html.parser')\n"
   ]
  },
  {
   "cell_type": "code",
   "execution_count": 2,
   "metadata": {},
   "outputs": [
    {
     "name": "stdout",
     "output_type": "stream",
     "text": [
      "Finding all finished courses...\n",
      "There are 37 courses...\n"
     ]
    }
   ],
   "source": [
    "print(\"Finding all finished courses...\")\n",
    "courses = soup.find_all(\"ladok-avslutad-kurs\")\n",
    "print(f\"There are {len(courses)} courses...\")"
   ]
  },
  {
   "cell_type": "code",
   "execution_count": 216,
   "metadata": {},
   "outputs": [
    {
     "name": "stdout",
     "output_type": "stream",
     "text": [
      "Storing results into table...\n"
     ]
    }
   ],
   "source": [
    "print(\"Storing results into table...\")\n",
    "results = []\n",
    "for i, course in enumerate (courses):\n",
    "    info = course.find(\"div\", {\"ldk-visa-mobil\"}).text.split('|')\n",
    "    \n",
    "    try:\n",
    "        grade = course.find(\"p\").text[7:8]\n",
    "    except:\n",
    "        grade = 0\n",
    "        \n",
    "    try:\n",
    "        code = info[2][3:]\n",
    "    except:\n",
    "        code = 0\n",
    "        \n",
    "    try:\n",
    "        cred = re.search(\"\\d*\\.\\d*\", info[1]).group(0)\n",
    "    except:\n",
    "        cred = 0\n",
    "    \n",
    "    results.append((code, grade, float(cred)))\n",
    "\n",
    "    \n",
    "table  = pd.DataFrame(results)\n",
    "table = table.rename(columns={0:'course_code'})\n",
    "table = table.rename(columns={1:'grade'})\n",
    "table = table.rename(columns={2:'credits'})\n"
   ]
  },
  {
   "cell_type": "code",
   "execution_count": 217,
   "metadata": {},
   "outputs": [
    {
     "name": "stdout",
     "output_type": "stream",
     "text": [
      "Dropping erroneous data...\n"
     ]
    }
   ],
   "source": [
    "print(\"Dropping erroneous data...\")\n",
    "table = table[table.course_code != 0]\n",
    "table = table[table.grade != 'P']"
   ]
  },
  {
   "cell_type": "code",
   "execution_count": 212,
   "metadata": {},
   "outputs": [
    {
     "data": {
      "text/plain": [
       "6.0"
      ]
     },
     "execution_count": 212,
     "metadata": {},
     "output_type": "execute_result"
    }
   ],
   "source": [
    "3.0 * 2.0"
   ]
  },
  {
   "cell_type": "code",
   "execution_count": 218,
   "metadata": {},
   "outputs": [],
   "source": [
    "converter_dict = {\n",
    "    'A' : 5,\n",
    "    'B' : 4.5, \n",
    "    'C' : 4,\n",
    "    'D' : 3.5,\n",
    "    'E' : 3\n",
    "}"
   ]
  },
  {
   "cell_type": "code",
   "execution_count": 227,
   "metadata": {},
   "outputs": [],
   "source": [
    "\n",
    "table['weighted'] = table.apply(lambda x: converter_dict[x.grade]*x.credits, axis = 1)\n",
    "gpa = table.sum().weighted/table.sum().credits"
   ]
  },
  {
   "cell_type": "code",
   "execution_count": 228,
   "metadata": {},
   "outputs": [
    {
     "name": "stdout",
     "output_type": "stream",
     "text": [
      "3.9325396825396823\n"
     ]
    }
   ],
   "source": [
    "print(gpa)"
   ]
  }
 ],
 "metadata": {
  "kernelspec": {
   "display_name": "Python 3",
   "language": "python",
   "name": "python3"
  },
  "language_info": {
   "codemirror_mode": {
    "name": "ipython",
    "version": 3
   },
   "file_extension": ".py",
   "mimetype": "text/x-python",
   "name": "python",
   "nbconvert_exporter": "python",
   "pygments_lexer": "ipython3",
   "version": "3.7.5"
  }
 },
 "nbformat": 4,
 "nbformat_minor": 4
}
