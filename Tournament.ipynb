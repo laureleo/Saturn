{
 "cells": [
  {
   "cell_type": "code",
   "execution_count": 190,
   "metadata": {},
   "outputs": [],
   "source": [
    "import pandas as pd\n",
    "import numpy as np"
   ]
  },
  {
   "cell_type": "code",
   "execution_count": null,
   "metadata": {},
   "outputs": [],
   "source": []
  },
  {
   "cell_type": "code",
   "execution_count": 26,
   "metadata": {},
   "outputs": [
    {
     "output_type": "stream",
     "name": "stdout",
     "text": [
      "Jossan/Victor  is done!\nAnders/Therese  is done!\nMalin/Viktor  is done!\n"
     ]
    },
    {
     "output_type": "execute_result",
     "data": {
      "text/plain": [
       "                                    MONSTER  \\\n",
       "1505-1525     Jossan/Victor vs Maria/Robert   \n",
       "1530-1550    Maria/Robert vs Anders/Therese   \n",
       "1555-1615  Alexander/Jenny vs Jossan/Victor   \n",
       "1620-1640   Maria/Robert vs Alexander/Jenny   \n",
       "1645-1705      Maria/Robert vs Malin/Viktor   \n",
       "1710-1730         Minst poäng: Kamp om Ära!   \n",
       "\n",
       "                                    SKÄRGÅRD                         LANTCHIPS  \n",
       "1505-1525  Anders/Therese vs Alexander/Jenny      Malin/Viktor vs Filip/Ulrika  \n",
       "1530-1550      Jossan/Victor vs Filip/Ulrika   Malin/Viktor vs Alexander/Jenny  \n",
       "1555-1615     Malin/Viktor vs Anders/Therese      Filip/Ulrika vs Maria/Robert  \n",
       "1620-1640      Jossan/Victor vs Malin/Viktor    Filip/Ulrika vs Anders/Therese  \n",
       "1645-1705    Anders/Therese vs Jossan/Victor   Filip/Ulrika vs Alexander/Jenny  \n",
       "1710-1730      Mellan poäng : Kamp om Brons!  Mest poäng: Kamp om Silver/Guld!  "
      ],
      "text/html": "<div>\n<style scoped>\n    .dataframe tbody tr th:only-of-type {\n        vertical-align: middle;\n    }\n\n    .dataframe tbody tr th {\n        vertical-align: top;\n    }\n\n    .dataframe thead th {\n        text-align: right;\n    }\n</style>\n<table border=\"1\" class=\"dataframe\">\n  <thead>\n    <tr style=\"text-align: right;\">\n      <th></th>\n      <th>MONSTER</th>\n      <th>SKÄRGÅRD</th>\n      <th>LANTCHIPS</th>\n    </tr>\n  </thead>\n  <tbody>\n    <tr>\n      <th>1505-1525</th>\n      <td>Jossan/Victor vs Maria/Robert</td>\n      <td>Anders/Therese vs Alexander/Jenny</td>\n      <td>Malin/Viktor vs Filip/Ulrika</td>\n    </tr>\n    <tr>\n      <th>1530-1550</th>\n      <td>Maria/Robert vs Anders/Therese</td>\n      <td>Jossan/Victor vs Filip/Ulrika</td>\n      <td>Malin/Viktor vs Alexander/Jenny</td>\n    </tr>\n    <tr>\n      <th>1555-1615</th>\n      <td>Alexander/Jenny vs Jossan/Victor</td>\n      <td>Malin/Viktor vs Anders/Therese</td>\n      <td>Filip/Ulrika vs Maria/Robert</td>\n    </tr>\n    <tr>\n      <th>1620-1640</th>\n      <td>Maria/Robert vs Alexander/Jenny</td>\n      <td>Jossan/Victor vs Malin/Viktor</td>\n      <td>Filip/Ulrika vs Anders/Therese</td>\n    </tr>\n    <tr>\n      <th>1645-1705</th>\n      <td>Maria/Robert vs Malin/Viktor</td>\n      <td>Anders/Therese vs Jossan/Victor</td>\n      <td>Filip/Ulrika vs Alexander/Jenny</td>\n    </tr>\n    <tr>\n      <th>1710-1730</th>\n      <td>Minst poäng: Kamp om Ära!</td>\n      <td>Mellan poäng : Kamp om Brons!</td>\n      <td>Mest poäng: Kamp om Silver/Guld!</td>\n    </tr>\n  </tbody>\n</table>\n</div>"
     },
     "metadata": {},
     "execution_count": 26
    }
   ],
   "source": [
    "\n",
    "import pandas as pd\n",
    "import random\n",
    "import numpy as np\n",
    "\n",
    "def create_schedule(seed = 0):\n",
    "    \"\"\"This function uses a horrible why-loop with a try clause, instead of intelligence. Beware\"\"\"\n",
    "    np.random.seed(seed)\n",
    "    schedule = pd.DataFrame()\n",
    "    times = [\n",
    "    \"1505-1525\",\n",
    "    \"1530-1550\",\n",
    "    \"1555-1615\",\n",
    "    \"1620-1640\",\n",
    "    \"1645-1705\",\n",
    "    \"1710-1730\"\n",
    "    ]\n",
    "\n",
    "    arenas = [\"MONSTER\", \"SKÄRGÅRD\", \"LANTCHIPS\"]\n",
    "\n",
    "    A = \"Maria/Robert\"\n",
    "    B = \"Alexander/Jenny\"\n",
    "    C = \"Jossan/Victor\"\n",
    "    D = \"Anders/Therese\"\n",
    "    E = \"Malin/Viktor\"\n",
    "    F = \"Filip/Ulrika\"\n",
    "\n",
    "    teams = [A, B, C, D, E, F]\n",
    "\n",
    "    done = False\n",
    "    while done is not True:\n",
    "        try:\n",
    "            vs_table = pd.DataFrame(columns=['Team_1', 'Team_2'])\n",
    "\n",
    "            for timeslot in times:\n",
    "                players = teams.copy()\n",
    "                for arena in arenas:\n",
    "                    team1 = np.random.choice(players)\n",
    "                    players.remove(team1)\n",
    "\n",
    "                    already_played_against = list(vs_table[vs_table['Team_1'] == team1]['Team_2'].unique())\n",
    "\n",
    "                    if len(already_played_against) == len(teams) -1:\n",
    "                        print(f\"{team1}  is done!\")\n",
    "                    else:\n",
    "                        not_played_against = [p for p in players if p not in already_played_against]\n",
    "            \n",
    "\n",
    "                        team2 = np.random.choice(not_played_against)\n",
    "                        players.remove(team2)\n",
    "\n",
    "                        vs_entry = pd.DataFrame([[team1, team2], [team2, team1]], columns=['Team_1', 'Team_2'])\n",
    "                        vs_table = vs_table.append(vs_entry)\n",
    "\n",
    "                        #print(f\"{team1} vs {team2} in {arena} at {timeslot}\")\n",
    "                        schedule.at[timeslot, arena] = team1 + ' vs ' + team2\n",
    "            done = True\n",
    "        except Exception as e:\n",
    "            done = False\n",
    "\n",
    "    schedule.at['1710-1730', 'MONSTER'] = \"Minst poäng: Kamp om Ära!\"\n",
    "    schedule.at['1710-1730', 'SKÄRGÅRD'] = \"Mellan poäng : Kamp om Brons!\"\n",
    "    schedule.at['1710-1730', 'LANTCHIPS'] = \"Mest poäng: Kamp om Silver/Guld!\"\n",
    "\n",
    "\n",
    "\n",
    "    return schedule\n",
    "\n",
    "\n",
    "\n",
    "\n",
    "schedule  = create_schedule(3)\n",
    "\n",
    "schedule"
   ]
  },
  {
   "cell_type": "code",
   "execution_count": 36,
   "metadata": {},
   "outputs": [
    {
     "output_type": "stream",
     "name": "stdout",
     "text": [
      "1: Alla möter alla, varefter finaler spelas.\n2: Matchtid 20 min.\n3: Ingen fördel; först till 40 poäng vinner game\n4: Matchen är över när ett lag vunnit 6 game ELLER matchtiden tar slut.\n\t4a: Om ett game spelas när matchtiden tar slut går gamet till det lag med flest poäng.\n\t4b: Om båda lagen då har lika många poäng spelas en boll till, vinnaren av den tar hem game.\n\t4c: Om båda lagen då har lika många game vunna gäller sudden death; varannat lag servar en boll. Det lag som först vinner två bollar i rad tar hem hela matchen.\n5: Efter varje match, markera på det utskrivna schemat laget som vann\n6: De två lag som vunnit flest matcher möter varandra, de två lag som vunnit näst mest matcher möter varandra, och de två lag som vunnit minst matcher möter varandra i finaler\n\t6a: Om två (eller flera lag) har lika många poäng avgörs ordningen med sten sax påse; först till tre\n"
     ]
    }
   ],
   "source": [
    "regler = [\n",
    "\"1: Alla möter alla, varefter finaler spelas.\",\n",
    "\"2: Matchtid 20 min.\",\n",
    "\"3: Ingen fördel; först till 40 poäng vinner game\",\n",
    "\"4: Matchen är över när ett lag vunnit 6 game ELLER matchtiden tar slut.\",\n",
    "\"\\t4a: Om ett game spelas när matchtiden tar slut går gamet till det lag med flest poäng.\",\n",
    "\"\\t4b: Om båda lagen då har lika många poäng spelas en boll till, vinnaren av den tar hem game.\",\n",
    "\"\\t4c: Om båda lagen då har lika många game vunna gäller sudden death; varannat lag servar en boll. Det lag som först vinner två bollar i rad tar hem hela matchen.\",\n",
    "\"5: Efter varje match, markera på det utskrivna schemat laget som vann\",\n",
    "\"6: De två lag som vunnit flest matcher möter varandra, de två lag som vunnit näst mest matcher möter varandra, och de två lag som vunnit minst matcher möter varandra i finaler\",\n",
    "\"\\t6a: Om två (eller flera lag) har lika många poäng avgörs ordningen med sten sax påse; först till tre\"\n",
    "    ]\n",
    "for r in regler:\n",
    "    print(r)"
   ]
  },
  {
   "cell_type": "code",
   "execution_count": 210,
   "metadata": {},
   "outputs": [],
   "source": []
  },
  {
   "cell_type": "code",
   "execution_count": 211,
   "metadata": {},
   "outputs": [],
   "source": []
  }
 ],
 "metadata": {
  "kernelspec": {
   "display_name": "Python 3",
   "language": "python",
   "name": "python3"
  },
  "language_info": {
   "codemirror_mode": {
    "name": "ipython",
    "version": 3
   },
   "file_extension": ".py",
   "mimetype": "text/x-python",
   "name": "python",
   "nbconvert_exporter": "python",
   "pygments_lexer": "ipython3",
   "version": "3.7.3-final"
  }
 },
 "nbformat": 4,
 "nbformat_minor": 4
}